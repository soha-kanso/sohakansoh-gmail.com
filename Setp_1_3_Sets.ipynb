{
  "nbformat": 4,
  "nbformat_minor": 0,
  "metadata": {
    "anaconda-cloud": {},
    "kernelspec": {
      "display_name": "Python 3",
      "language": "python",
      "name": "python3"
    },
    "language_info": {
      "codemirror_mode": {
        "name": "ipython",
        "version": 3
      },
      "file_extension": ".py",
      "mimetype": "text/x-python",
      "name": "python",
      "nbconvert_exporter": "python",
      "pygments_lexer": "ipython3",
      "version": "3.7.1"
    },
    "colab": {
      "name": "Setp_1_3_Sets.ipynb",
      "provenance": [],
      "include_colab_link": true
    }
  },
  "cells": [
    {
      "cell_type": "markdown",
      "metadata": {
        "id": "view-in-github",
        "colab_type": "text"
      },
      "source": [
        "<a href=\"https://colab.research.google.com/github/soha-kanso/sohakansoh-gmail.com/blob/master/Setp_1_3_Sets.ipynb\" target=\"_parent\"><img src=\"https://colab.research.google.com/assets/colab-badge.svg\" alt=\"Open In Colab\"/></a>"
      ]
    },
    {
      "cell_type": "markdown",
      "metadata": {
        "id": "FoctZPs47uy6",
        "colab_type": "text"
      },
      "source": [
        "### Sets\n",
        "\n",
        "A set contains an unordered collection of unique and immutable objects. The set data type is, as the name implies, a Python implementation of the sets as they are known from mathematics. This explains, why sets unlike lists or tuples can't have multiple occurrences of the same element"
      ]
    },
    {
      "cell_type": "markdown",
      "metadata": {
        "id": "rFvMrCFh7uy-",
        "colab_type": "text"
      },
      "source": [
        "### Creating sets"
      ]
    },
    {
      "cell_type": "code",
      "metadata": {
        "id": "kXkF5tt37uy_",
        "colab_type": "code",
        "outputId": "5836e08a-367d-4e0b-9a71-54ff3899ef0c",
        "colab": {
          "base_uri": "https://localhost:8080/",
          "height": 68
        }
      },
      "source": [
        "# Creating an empty set\n",
        "languages = set()\n",
        "print (type(languages), languages)\n",
        "\n",
        "languages = {'Python', 'R', 'SAS', 'Julia'}\n",
        "print (type(languages), languages)\n",
        "\n",
        "# set of mixed datatypes\n",
        "mixed_set = {\"Python\", (2.7, 3.4)}\n",
        "print (type(mixed_set), languages)"
      ],
      "execution_count": 1,
      "outputs": [
        {
          "output_type": "stream",
          "text": [
            "<class 'set'> set()\n",
            "<class 'set'> {'Python', 'Julia', 'R', 'SAS'}\n",
            "<class 'set'> {'Python', 'Julia', 'R', 'SAS'}\n"
          ],
          "name": "stdout"
        }
      ]
    },
    {
      "cell_type": "markdown",
      "metadata": {
        "id": "7XcTMNmz7uzF",
        "colab_type": "text"
      },
      "source": [
        "### Accessing set elements"
      ]
    },
    {
      "cell_type": "code",
      "metadata": {
        "id": "PCQzBGiU7uzH",
        "colab_type": "code",
        "outputId": "37d9f950-5a84-48e5-e43f-3b7f6a0f22de",
        "colab": {
          "base_uri": "https://localhost:8080/",
          "height": 51
        }
      },
      "source": [
        "print (list(languages)[0])\n",
        "print (list(languages)[0:3])"
      ],
      "execution_count": 2,
      "outputs": [
        {
          "output_type": "stream",
          "text": [
            "Python\n",
            "['Python', 'Julia', 'R']\n"
          ],
          "name": "stdout"
        }
      ]
    },
    {
      "cell_type": "markdown",
      "metadata": {
        "id": "HjqfKY8D7uzN",
        "colab_type": "text"
      },
      "source": [
        "### Changing a set in Python\n",
        "\n",
        "Although sets are mutable, indexing on them will have no meaning due to the fact that they are unordered. So sets do not support accessing or changing an item/element using indexing or slicing. The add() method can be used to add single element and update() method for adding multiple elements. Note that the update() method can take the argument in the format of tuples, lists, strings or other sets. However, in all cases the duplicates are ignored."
      ]
    },
    {
      "cell_type": "code",
      "metadata": {
        "id": "__GR6ADP7uzO",
        "colab_type": "code",
        "outputId": "8c72d163-2aa6-4a96-8146-eb55adb4b805",
        "colab": {
          "base_uri": "https://localhost:8080/",
          "height": 85
        }
      },
      "source": [
        "# initialize a set\n",
        "languages = {'Python', 'R'}\n",
        "print(languages)\n",
        "\n",
        "# add an element\n",
        "languages.add('SAS')\n",
        "print(languages)\n",
        "\n",
        "# add multiple elements\n",
        "languages.update(['Julia','SPSS'])\n",
        "print(languages)\n",
        "\n",
        "# add list and set\n",
        "languages.update(['Java','C'], {'Machine Learning','Data Science','AI'})\n",
        "print(languages)"
      ],
      "execution_count": 3,
      "outputs": [
        {
          "output_type": "stream",
          "text": [
            "{'Python', 'R'}\n",
            "{'Python', 'R', 'SAS'}\n",
            "{'R', 'Julia', 'SAS', 'Python', 'SPSS'}\n",
            "{'C', 'R', 'AI', 'Julia', 'SAS', 'Data Science', 'Python', 'SPSS', 'Machine Learning', 'Java'}\n"
          ],
          "name": "stdout"
        }
      ]
    },
    {
      "cell_type": "markdown",
      "metadata": {
        "id": "IXQdIjBT7uzT",
        "colab_type": "text"
      },
      "source": [
        "### Removing items from set\n",
        "\n",
        "The discard() or remove() method can be used to remove a particular item from set. The fundamental difference between discard() and remove() is that the first do not take any action if the item does not exist in the set, whereas remove() will raises an error in such scenario."
      ]
    },
    {
      "cell_type": "code",
      "metadata": {
        "id": "0X7WJV0Y7uzU",
        "colab_type": "code",
        "outputId": "1591b633-6abf-4c81-e646-39beb673ec84",
        "colab": {
          "base_uri": "https://localhost:8080/",
          "height": 68
        }
      },
      "source": [
        "# remove an element\n",
        "languages.remove('AI')\n",
        "print(languages)\n",
        "\n",
        "# discard an element, although AI has already been removed discard will not throw an error\n",
        "languages.discard('AI')\n",
        "print(languages)\n",
        "\n",
        "# Pop will remove a random item from set\n",
        "print (\"Removed:\", (languages.pop()), \"from\", languages)"
      ],
      "execution_count": 4,
      "outputs": [
        {
          "output_type": "stream",
          "text": [
            "{'C', 'R', 'Julia', 'SAS', 'Data Science', 'Python', 'SPSS', 'Machine Learning', 'Java'}\n",
            "{'C', 'R', 'Julia', 'SAS', 'Data Science', 'Python', 'SPSS', 'Machine Learning', 'Java'}\n",
            "Removed: C from {'R', 'Julia', 'SAS', 'Data Science', 'Python', 'SPSS', 'Machine Learning', 'Java'}\n"
          ],
          "name": "stdout"
        }
      ]
    },
    {
      "cell_type": "markdown",
      "metadata": {
        "collapsed": true,
        "id": "88nFvhRS7uzY",
        "colab_type": "text"
      },
      "source": [
        "## Set operations\n",
        "As discussed earlier, sets allow us to use mathematical set operations such as union, intersection, difference and symmetric difference. We can achieve this with the help of operators or methods.\n",
        "\n",
        "### Set Union\n",
        "Union of two sets A and B will result to a set of all items combined from both sets. There are two ways of to perform union operation 1) Using | operator, 2) using union() method\n"
      ]
    },
    {
      "cell_type": "code",
      "metadata": {
        "id": "n0NhIHYc7uzZ",
        "colab_type": "code",
        "outputId": "f4cc4b82-86ea-4372-c4f1-e76773eb422a",
        "colab": {
          "base_uri": "https://localhost:8080/",
          "height": 51
        }
      },
      "source": [
        "# initialize A and B\n",
        "A = {1, 2, 3, 4, 5}\n",
        "B = {4, 5, 6, 7, 8}\n",
        "\n",
        "# use | operator\n",
        "print (\"Union of A | B\", A|B)\n",
        "\n",
        "# alternative we can use union()\n",
        "print (\"Union of A | B\", A.union(B))"
      ],
      "execution_count": 5,
      "outputs": [
        {
          "output_type": "stream",
          "text": [
            "Union of A | B {1, 2, 3, 4, 5, 6, 7, 8}\n",
            "Union of A | B {1, 2, 3, 4, 5, 6, 7, 8}\n"
          ],
          "name": "stdout"
        }
      ]
    },
    {
      "cell_type": "markdown",
      "metadata": {
        "id": "Q1jtRmoi7uzd",
        "colab_type": "text"
      },
      "source": [
        "### Set Intersection\n",
        "Intersection of two sets A and B will result to a set of items that exists  or common in both sets. There are two ways to achieve intersection operation 1) using & operator, 2) using intersection() method"
      ]
    },
    {
      "cell_type": "code",
      "metadata": {
        "id": "fShdQs_N7uze",
        "colab_type": "code",
        "outputId": "453b9748-5e9f-48bf-84ad-80261ecb7233",
        "colab": {
          "base_uri": "https://localhost:8080/",
          "height": 51
        }
      },
      "source": [
        "# use & operator\n",
        "print (\"Intersection of A & B\", A & B)\n",
        "\n",
        "# alternative we can use intersection()\n",
        "print (\"Intersection of A & B\", A.intersection(B))"
      ],
      "execution_count": 6,
      "outputs": [
        {
          "output_type": "stream",
          "text": [
            "Intersection of A & B {4, 5}\n",
            "Intersection of A & B {4, 5}\n"
          ],
          "name": "stdout"
        }
      ]
    },
    {
      "cell_type": "markdown",
      "metadata": {
        "id": "d0I1iHCG7uzh",
        "colab_type": "text"
      },
      "source": [
        "### Set Difference\n",
        "Difference of two sets A and B (i.e., A - B) will result into a set of items which exists only in A and not in B. There are two ways to perform difference operation 1) using ‘–‘ operator, and 2) using difference() method"
      ]
    },
    {
      "cell_type": "code",
      "metadata": {
        "id": "5gpQLM9y7uzi",
        "colab_type": "code",
        "outputId": "15c4c562-2475-441f-b500-8e6b057f5f43",
        "colab": {
          "base_uri": "https://localhost:8080/",
          "height": 51
        }
      },
      "source": [
        "# use - operator on A\n",
        "print (\"Difference of A - B\", A - B)\n",
        "\n",
        "# alternative we can use difference()\n",
        "print (\"Difference of A - B\", A.difference(B))"
      ],
      "execution_count": 7,
      "outputs": [
        {
          "output_type": "stream",
          "text": [
            "Difference of A - B {1, 2, 3}\n",
            "Difference of A - B {1, 2, 3}\n"
          ],
          "name": "stdout"
        }
      ]
    },
    {
      "cell_type": "markdown",
      "metadata": {
        "id": "BY0_KqrU7uzm",
        "colab_type": "text"
      },
      "source": [
        "### Set Symmetric Difference\n",
        "Symmetric difference of two sets A and B is a set of items from both sets that are not common. There are two ways to perform symmetric difference 1) using ^ operator, and 2) using symmetric_difference() mehtod"
      ]
    },
    {
      "cell_type": "code",
      "metadata": {
        "id": "0JEbr1i87uzn",
        "colab_type": "code",
        "outputId": "0d1d121e-2306-4f49-9246-672bbc5278b9",
        "colab": {
          "base_uri": "https://localhost:8080/",
          "height": 51
        }
      },
      "source": [
        "# use ^ operator\n",
        "print (\"Symmetric difference of A ^ B\", A ^ B)\n",
        "\n",
        "# alternative we can use symmetric_difference()\n",
        "print (\"Symmetric difference of A ^ B\", A.symmetric_difference(B))"
      ],
      "execution_count": 8,
      "outputs": [
        {
          "output_type": "stream",
          "text": [
            "Symmetric difference of A ^ B {1, 2, 3, 6, 7, 8}\n",
            "Symmetric difference of A ^ B {1, 2, 3, 6, 7, 8}\n"
          ],
          "name": "stdout"
        }
      ]
    },
    {
      "cell_type": "markdown",
      "metadata": {
        "id": "Fez2m18B7uzq",
        "colab_type": "text"
      },
      "source": [
        "### Basic operations"
      ]
    },
    {
      "cell_type": "code",
      "metadata": {
        "id": "v8eTPa7v7uzr",
        "colab_type": "code",
        "outputId": "79c60f7f-5fda-4c1e-d4b0-2f518ecc75fd",
        "colab": {
          "base_uri": "https://localhost:8080/",
          "height": 170
        }
      },
      "source": [
        "# Return a shallow copy of a set\n",
        "lang = languages.copy()\n",
        "print (languages)\n",
        "print (lang)\n",
        "\n",
        "# initialize A and B\n",
        "A = {1, 2, 3, 4, 5}\n",
        "B = {4, 5, 6, 7, 8}\n",
        "\n",
        "print (A.isdisjoint(B))   # True, when two sets have a null intersection\n",
        "print (A.issubset(B))     # True, when another set contains this set\n",
        "print (A.issuperset(B))   # True, when this set contains another set\n",
        "sorted(B)                 # Return a new sorted list\n",
        "print (sum(A))            # Retrun the sum of all items\n",
        "print (len(A))            # Return the length \n",
        "print (min(A))            # Return the largest item\n",
        "print (max(A))            # Return the smallest item"
      ],
      "execution_count": 9,
      "outputs": [
        {
          "output_type": "stream",
          "text": [
            "{'R', 'Julia', 'SAS', 'Data Science', 'Python', 'SPSS', 'Machine Learning', 'Java'}\n",
            "{'R', 'Julia', 'SAS', 'Data Science', 'Python', 'SPSS', 'Machine Learning', 'Java'}\n",
            "False\n",
            "False\n",
            "False\n",
            "15\n",
            "5\n",
            "1\n",
            "5\n"
          ],
          "name": "stdout"
        }
      ]
    }
  ]
}